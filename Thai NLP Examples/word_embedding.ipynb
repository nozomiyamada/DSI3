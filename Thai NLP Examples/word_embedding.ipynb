{
 "cells": [
  {
   "cell_type": "markdown",
   "metadata": {},
   "source": [
    "# Outline\n",
    "\n",
    "- train word embeddings by using `matichon.json`\n",
    "- use gensim `Word2Vec` model\n",
    "- find similar words, calculate cosine similarity"
   ]
  },
  {
   "cell_type": "markdown",
   "metadata": {},
   "source": [
    "# Import "
   ]
  },
  {
   "cell_type": "code",
   "execution_count": 1,
   "metadata": {},
   "outputs": [],
   "source": [
    "import pandas as pd\n",
    "import numpy as np\n",
    "import re\n",
    "\n",
    "from gensim.models import Word2Vec\n",
    "\n",
    "from pythainlp.tokenize import word_tokenize"
   ]
  },
  {
   "cell_type": "markdown",
   "metadata": {},
   "source": [
    "- custom tokenization function\n",
    "- remove all quatations and shrink newlines `\\n` and white spaces "
   ]
  },
  {
   "cell_type": "code",
   "execution_count": 2,
   "metadata": {},
   "outputs": [],
   "source": [
    "def my_tokenize(text):\n",
    "    text = re.sub(r'[\\\"\\']', '', text) # remove quotations\n",
    "    text = re.sub(r'[\\n\\t\\s]', ' ', text) # shrink newlines/spaces\n",
    "    tokens = word_tokenize(text, keep_whitespace=True)\n",
    "    return tokens"
   ]
  },
  {
   "cell_type": "markdown",
   "metadata": {},
   "source": [
    "# Load data\n",
    "\n",
    "- need only article, drop the other columns\n",
    "- tokenize article and store as list of tokens"
   ]
  },
  {
   "cell_type": "code",
   "execution_count": 3,
   "metadata": {},
   "outputs": [
    {
     "data": {
      "text/html": [
       "<div>\n",
       "<style scoped>\n",
       "    .dataframe tbody tr th:only-of-type {\n",
       "        vertical-align: middle;\n",
       "    }\n",
       "\n",
       "    .dataframe tbody tr th {\n",
       "        vertical-align: top;\n",
       "    }\n",
       "\n",
       "    .dataframe thead th {\n",
       "        text-align: right;\n",
       "    }\n",
       "</style>\n",
       "<table border=\"1\" class=\"dataframe\">\n",
       "  <thead>\n",
       "    <tr style=\"text-align: right;\">\n",
       "      <th></th>\n",
       "      <th>headline</th>\n",
       "      <th>article</th>\n",
       "      <th>date</th>\n",
       "      <th>category</th>\n",
       "      <th>url</th>\n",
       "      <th>id</th>\n",
       "    </tr>\n",
       "  </thead>\n",
       "  <tbody>\n",
       "    <tr>\n",
       "      <th>0</th>\n",
       "      <td>ซาอุฯจ่อเปิดไฟเขียวให้สิทธิหญิงม่าย-หย่าร้างปก...</td>\n",
       "      <td>(2 ธ.ค.58) หนังสือพิมพ์อัล ริยาดของทางการซาอุด...</td>\n",
       "      <td>2015-12-04 03:35:18</td>\n",
       "      <td>foreign</td>\n",
       "      <td>https://www.matichon.co.th/foreign/news_293</td>\n",
       "      <td>293</td>\n",
       "    </tr>\n",
       "    <tr>\n",
       "      <th>1</th>\n",
       "      <td>\"ไก่อู\"ชี้ ตู่-เต้น ไม่ได้มีหน้าที่ตรวจสอบทุจร...</td>\n",
       "      <td>\"บิ๊กป้อม\" แจง ครม. มีความพยายามยุยงปลุกปั่นให...</td>\n",
       "      <td>2015-12-04 04:10:49</td>\n",
       "      <td>politics</td>\n",
       "      <td>https://www.matichon.co.th/politics/news_329</td>\n",
       "      <td>329</td>\n",
       "    </tr>\n",
       "    <tr>\n",
       "      <th>2</th>\n",
       "      <td>เปิดใจ \"โบว์ แวนดา\" ระหว่างรอยิ้มได้เต็มที่ในว...</td>\n",
       "      <td>แม้จะทำหน้าที่ภรรยาที่ดีมาเฝ้าปอ – ทฤษฎี สหวงษ...</td>\n",
       "      <td>2015-12-04 06:30:11</td>\n",
       "      <td>entertainment</td>\n",
       "      <td>https://www.matichon.co.th/entertainment/news_375</td>\n",
       "      <td>375</td>\n",
       "    </tr>\n",
       "    <tr>\n",
       "      <th>3</th>\n",
       "      <td>\"นาย ณภัทร\" ปลื้มคนชมแชมป์ขึ้นปกนิตยสารแห่งปี ...</td>\n",
       "      <td>กลายเป็นดาราหนุ่มเนื้อหอมแฟนคลับแน่น กระแสมาแร...</td>\n",
       "      <td>2015-12-04 07:10:26</td>\n",
       "      <td>entertainment</td>\n",
       "      <td>https://www.matichon.co.th/entertainment/news_393</td>\n",
       "      <td>393</td>\n",
       "    </tr>\n",
       "    <tr>\n",
       "      <th>4</th>\n",
       "      <td>คอแทบหัก! แม่ยกแห่คล้องพวงมาลัยักษ์ \"บอย ศิริช...</td>\n",
       "      <td>แสดงดีจนเป็นที่ถูกอกถูกใจแฟนคลับ จนได้รับพวงมา...</td>\n",
       "      <td>2015-12-05 05:26:20</td>\n",
       "      <td>entertainment</td>\n",
       "      <td>https://www.matichon.co.th/entertainment/news_445</td>\n",
       "      <td>445</td>\n",
       "    </tr>\n",
       "    <tr>\n",
       "      <th>...</th>\n",
       "      <td>...</td>\n",
       "      <td>...</td>\n",
       "      <td>...</td>\n",
       "      <td>...</td>\n",
       "      <td>...</td>\n",
       "      <td>...</td>\n",
       "    </tr>\n",
       "    <tr>\n",
       "      <th>17104</th>\n",
       "      <td>โบว์ ณัฏฐา  แจ้งความ พล.ต.อ.ศรีวราห์ ถูกพาดพิง...</td>\n",
       "      <td>เมื่อวันที่ 5 ก.ค. ที่ สน.พญาไท น.ส.ณัฏฐา มหัท...</td>\n",
       "      <td>2018-07-05 13:25:45</td>\n",
       "      <td>politics</td>\n",
       "      <td>https://www.matichon.co.th/politics/news_1029607</td>\n",
       "      <td>1029607</td>\n",
       "    </tr>\n",
       "    <tr>\n",
       "      <th>17105</th>\n",
       "      <td>ภาพบรรยากาศ ขุดทางระบายน้ำ เร่งนำ 13 ชีวิตออกจ...</td>\n",
       "      <td>วันที่ 5 กรกฎาคม เจ้าหน้าที่ขุดทางระบายน้ำที่ด...</td>\n",
       "      <td>2018-07-05 13:33:10</td>\n",
       "      <td>region</td>\n",
       "      <td>https://www.matichon.co.th/region/news_1029619</td>\n",
       "      <td>1029619</td>\n",
       "    </tr>\n",
       "    <tr>\n",
       "      <th>17106</th>\n",
       "      <td>สนช.ผ่านพ.ร.บ.สงฆ์ 3 วาระรวด พระมหากษัตริย์ทรง...</td>\n",
       "      <td>สนช.ผ่าน พ.ร.บ.สงฆ์ 3 วาระรวด \"วิษณุ\" แจงสาระส...</td>\n",
       "      <td>2018-07-05 13:33:27</td>\n",
       "      <td>politics</td>\n",
       "      <td>https://www.matichon.co.th/politics/news_1029636</td>\n",
       "      <td>1029636</td>\n",
       "    </tr>\n",
       "    <tr>\n",
       "      <th>17107</th>\n",
       "      <td>นานาทรรศนะเพิ่มค่าปรับหมอ 5ล้านบ. สกัดเบี้ยว...</td>\n",
       "      <td>หมายเหตุ – จากกรณีที่ กระทรวงศึกษาธิการ (ศธ.) ...</td>\n",
       "      <td>2018-07-05 13:53:26</td>\n",
       "      <td>education</td>\n",
       "      <td>https://www.matichon.co.th/education/news_1029668</td>\n",
       "      <td>1029668</td>\n",
       "    </tr>\n",
       "    <tr>\n",
       "      <th>17108</th>\n",
       "      <td>วอน!! นายก ส.ปส.กช.ชง 'บิ๊กจิน' ช่วย น.ร.เอกชน...</td>\n",
       "      <td>เมื่อวันที่ 5 กรกรฎาคม นายศุภเสฏฐ์ คณากูล นายก...</td>\n",
       "      <td>2018-07-06 04:46:18</td>\n",
       "      <td>education</td>\n",
       "      <td>https://www.matichon.co.th/education/news_1029858</td>\n",
       "      <td>1029858</td>\n",
       "    </tr>\n",
       "  </tbody>\n",
       "</table>\n",
       "<p>17109 rows × 6 columns</p>\n",
       "</div>"
      ],
      "text/plain": [
       "                                                headline  \\\n",
       "0      ซาอุฯจ่อเปิดไฟเขียวให้สิทธิหญิงม่าย-หย่าร้างปก...   \n",
       "1      \"ไก่อู\"ชี้ ตู่-เต้น ไม่ได้มีหน้าที่ตรวจสอบทุจร...   \n",
       "2      เปิดใจ \"โบว์ แวนดา\" ระหว่างรอยิ้มได้เต็มที่ในว...   \n",
       "3      \"นาย ณภัทร\" ปลื้มคนชมแชมป์ขึ้นปกนิตยสารแห่งปี ...   \n",
       "4      คอแทบหัก! แม่ยกแห่คล้องพวงมาลัยักษ์ \"บอย ศิริช...   \n",
       "...                                                  ...   \n",
       "17104  โบว์ ณัฏฐา  แจ้งความ พล.ต.อ.ศรีวราห์ ถูกพาดพิง...   \n",
       "17105  ภาพบรรยากาศ ขุดทางระบายน้ำ เร่งนำ 13 ชีวิตออกจ...   \n",
       "17106  สนช.ผ่านพ.ร.บ.สงฆ์ 3 วาระรวด พระมหากษัตริย์ทรง...   \n",
       "17107  นานาทรรศนะเพิ่มค่าปรับหมอ 5ล้านบ. สกัดเบี้ยว...   \n",
       "17108  วอน!! นายก ส.ปส.กช.ชง 'บิ๊กจิน' ช่วย น.ร.เอกชน...   \n",
       "\n",
       "                                                 article                date  \\\n",
       "0      (2 ธ.ค.58) หนังสือพิมพ์อัล ริยาดของทางการซาอุด... 2015-12-04 03:35:18   \n",
       "1      \"บิ๊กป้อม\" แจง ครม. มีความพยายามยุยงปลุกปั่นให... 2015-12-04 04:10:49   \n",
       "2      แม้จะทำหน้าที่ภรรยาที่ดีมาเฝ้าปอ – ทฤษฎี สหวงษ... 2015-12-04 06:30:11   \n",
       "3      กลายเป็นดาราหนุ่มเนื้อหอมแฟนคลับแน่น กระแสมาแร... 2015-12-04 07:10:26   \n",
       "4      แสดงดีจนเป็นที่ถูกอกถูกใจแฟนคลับ จนได้รับพวงมา... 2015-12-05 05:26:20   \n",
       "...                                                  ...                 ...   \n",
       "17104  เมื่อวันที่ 5 ก.ค. ที่ สน.พญาไท น.ส.ณัฏฐา มหัท... 2018-07-05 13:25:45   \n",
       "17105  วันที่ 5 กรกฎาคม เจ้าหน้าที่ขุดทางระบายน้ำที่ด... 2018-07-05 13:33:10   \n",
       "17106  สนช.ผ่าน พ.ร.บ.สงฆ์ 3 วาระรวด \"วิษณุ\" แจงสาระส... 2018-07-05 13:33:27   \n",
       "17107  หมายเหตุ – จากกรณีที่ กระทรวงศึกษาธิการ (ศธ.) ... 2018-07-05 13:53:26   \n",
       "17108  เมื่อวันที่ 5 กรกรฎาคม นายศุภเสฏฐ์ คณากูล นายก... 2018-07-06 04:46:18   \n",
       "\n",
       "            category                                                url  \\\n",
       "0            foreign        https://www.matichon.co.th/foreign/news_293   \n",
       "1           politics       https://www.matichon.co.th/politics/news_329   \n",
       "2      entertainment  https://www.matichon.co.th/entertainment/news_375   \n",
       "3      entertainment  https://www.matichon.co.th/entertainment/news_393   \n",
       "4      entertainment  https://www.matichon.co.th/entertainment/news_445   \n",
       "...              ...                                                ...   \n",
       "17104       politics   https://www.matichon.co.th/politics/news_1029607   \n",
       "17105         region     https://www.matichon.co.th/region/news_1029619   \n",
       "17106       politics   https://www.matichon.co.th/politics/news_1029636   \n",
       "17107      education  https://www.matichon.co.th/education/news_1029668   \n",
       "17108      education  https://www.matichon.co.th/education/news_1029858   \n",
       "\n",
       "            id  \n",
       "0          293  \n",
       "1          329  \n",
       "2          375  \n",
       "3          393  \n",
       "4          445  \n",
       "...        ...  \n",
       "17104  1029607  \n",
       "17105  1029619  \n",
       "17106  1029636  \n",
       "17107  1029668  \n",
       "17108  1029858  \n",
       "\n",
       "[17109 rows x 6 columns]"
      ]
     },
     "execution_count": 3,
     "metadata": {},
     "output_type": "execute_result"
    }
   ],
   "source": [
    "df = pd.read_json('data/matichon.json')\n",
    "df"
   ]
  },
  {
   "cell_type": "code",
   "execution_count": 4,
   "metadata": {},
   "outputs": [
    {
     "data": {
      "text/html": [
       "<div>\n",
       "<style scoped>\n",
       "    .dataframe tbody tr th:only-of-type {\n",
       "        vertical-align: middle;\n",
       "    }\n",
       "\n",
       "    .dataframe tbody tr th {\n",
       "        vertical-align: top;\n",
       "    }\n",
       "\n",
       "    .dataframe thead th {\n",
       "        text-align: right;\n",
       "    }\n",
       "</style>\n",
       "<table border=\"1\" class=\"dataframe\">\n",
       "  <thead>\n",
       "    <tr style=\"text-align: right;\">\n",
       "      <th></th>\n",
       "      <th>article</th>\n",
       "      <th>category</th>\n",
       "      <th>article_tokens</th>\n",
       "    </tr>\n",
       "  </thead>\n",
       "  <tbody>\n",
       "    <tr>\n",
       "      <th>0</th>\n",
       "      <td>(2 ธ.ค.58) หนังสือพิมพ์อัล ริยาดของทางการซาอุด...</td>\n",
       "      <td>foreign</td>\n",
       "      <td>[(, 2,  , ธ.ค., 58, ),  , หนังสือพิมพ์, อัล,  ...</td>\n",
       "    </tr>\n",
       "    <tr>\n",
       "      <th>1</th>\n",
       "      <td>\"บิ๊กป้อม\" แจง ครม. มีความพยายามยุยงปลุกปั่นให...</td>\n",
       "      <td>politics</td>\n",
       "      <td>[บิ๊ก, ป้อม,  , แจง,  , ครม.,  , มี, ความพยายา...</td>\n",
       "    </tr>\n",
       "    <tr>\n",
       "      <th>2</th>\n",
       "      <td>แม้จะทำหน้าที่ภรรยาที่ดีมาเฝ้าปอ – ทฤษฎี สหวงษ...</td>\n",
       "      <td>entertainment</td>\n",
       "      <td>[แม้, จะ, ทำหน้าที่, ภรรยา, ที่, ดี, มา, เฝ้า,...</td>\n",
       "    </tr>\n",
       "    <tr>\n",
       "      <th>3</th>\n",
       "      <td>กลายเป็นดาราหนุ่มเนื้อหอมแฟนคลับแน่น กระแสมาแร...</td>\n",
       "      <td>entertainment</td>\n",
       "      <td>[กลายเป็น, ดารา, หนุ่ม, เนื้อ, หอม, แฟนคลับ, แ...</td>\n",
       "    </tr>\n",
       "    <tr>\n",
       "      <th>4</th>\n",
       "      <td>แสดงดีจนเป็นที่ถูกอกถูกใจแฟนคลับ จนได้รับพวงมา...</td>\n",
       "      <td>entertainment</td>\n",
       "      <td>[แสดง, ดี, จน, เป็นที่, ถูกอกถูกใจ, แฟนคลับ,  ...</td>\n",
       "    </tr>\n",
       "    <tr>\n",
       "      <th>...</th>\n",
       "      <td>...</td>\n",
       "      <td>...</td>\n",
       "      <td>...</td>\n",
       "    </tr>\n",
       "    <tr>\n",
       "      <th>17104</th>\n",
       "      <td>เมื่อวันที่ 5 ก.ค. ที่ สน.พญาไท น.ส.ณัฏฐา มหัท...</td>\n",
       "      <td>politics</td>\n",
       "      <td>[เมื่อ, วันที่,  , 5,  , ก.ค.,  , ที่,  , สน.,...</td>\n",
       "    </tr>\n",
       "    <tr>\n",
       "      <th>17105</th>\n",
       "      <td>วันที่ 5 กรกฎาคม เจ้าหน้าที่ขุดทางระบายน้ำที่ด...</td>\n",
       "      <td>region</td>\n",
       "      <td>[วันที่,  , 5,  , กรกฎาคม,  , เจ้าหน้าที่, ขุด...</td>\n",
       "    </tr>\n",
       "    <tr>\n",
       "      <th>17106</th>\n",
       "      <td>สนช.ผ่าน พ.ร.บ.สงฆ์ 3 วาระรวด \"วิษณุ\" แจงสาระส...</td>\n",
       "      <td>politics</td>\n",
       "      <td>[สนช, ., ผ่าน,  , พ.ร.บ., สงฆ์,  , 3,  , วาระ,...</td>\n",
       "    </tr>\n",
       "    <tr>\n",
       "      <th>17107</th>\n",
       "      <td>หมายเหตุ – จากกรณีที่ กระทรวงศึกษาธิการ (ศธ.) ...</td>\n",
       "      <td>education</td>\n",
       "      <td>[หมายเหตุ,  , –,  , จาก, กรณี, ที่,  , กระทรวง...</td>\n",
       "    </tr>\n",
       "    <tr>\n",
       "      <th>17108</th>\n",
       "      <td>เมื่อวันที่ 5 กรกรฎาคม นายศุภเสฏฐ์ คณากูล นายก...</td>\n",
       "      <td>education</td>\n",
       "      <td>[เมื่อ, วันที่,  , 5,  , กร, กร, ฎาคม,  , นาย,...</td>\n",
       "    </tr>\n",
       "  </tbody>\n",
       "</table>\n",
       "<p>17109 rows × 3 columns</p>\n",
       "</div>"
      ],
      "text/plain": [
       "                                                 article       category  \\\n",
       "0      (2 ธ.ค.58) หนังสือพิมพ์อัล ริยาดของทางการซาอุด...        foreign   \n",
       "1      \"บิ๊กป้อม\" แจง ครม. มีความพยายามยุยงปลุกปั่นให...       politics   \n",
       "2      แม้จะทำหน้าที่ภรรยาที่ดีมาเฝ้าปอ – ทฤษฎี สหวงษ...  entertainment   \n",
       "3      กลายเป็นดาราหนุ่มเนื้อหอมแฟนคลับแน่น กระแสมาแร...  entertainment   \n",
       "4      แสดงดีจนเป็นที่ถูกอกถูกใจแฟนคลับ จนได้รับพวงมา...  entertainment   \n",
       "...                                                  ...            ...   \n",
       "17104  เมื่อวันที่ 5 ก.ค. ที่ สน.พญาไท น.ส.ณัฏฐา มหัท...       politics   \n",
       "17105  วันที่ 5 กรกฎาคม เจ้าหน้าที่ขุดทางระบายน้ำที่ด...         region   \n",
       "17106  สนช.ผ่าน พ.ร.บ.สงฆ์ 3 วาระรวด \"วิษณุ\" แจงสาระส...       politics   \n",
       "17107  หมายเหตุ – จากกรณีที่ กระทรวงศึกษาธิการ (ศธ.) ...      education   \n",
       "17108  เมื่อวันที่ 5 กรกรฎาคม นายศุภเสฏฐ์ คณากูล นายก...      education   \n",
       "\n",
       "                                          article_tokens  \n",
       "0      [(, 2,  , ธ.ค., 58, ),  , หนังสือพิมพ์, อัล,  ...  \n",
       "1      [บิ๊ก, ป้อม,  , แจง,  , ครม.,  , มี, ความพยายา...  \n",
       "2      [แม้, จะ, ทำหน้าที่, ภรรยา, ที่, ดี, มา, เฝ้า,...  \n",
       "3      [กลายเป็น, ดารา, หนุ่ม, เนื้อ, หอม, แฟนคลับ, แ...  \n",
       "4      [แสดง, ดี, จน, เป็นที่, ถูกอกถูกใจ, แฟนคลับ,  ...  \n",
       "...                                                  ...  \n",
       "17104  [เมื่อ, วันที่,  , 5,  , ก.ค.,  , ที่,  , สน.,...  \n",
       "17105  [วันที่,  , 5,  , กรกฎาคม,  , เจ้าหน้าที่, ขุด...  \n",
       "17106  [สนช, ., ผ่าน,  , พ.ร.บ., สงฆ์,  , 3,  , วาระ,...  \n",
       "17107  [หมายเหตุ,  , –,  , จาก, กรณี, ที่,  , กระทรวง...  \n",
       "17108  [เมื่อ, วันที่,  , 5,  , กร, กร, ฎาคม,  , นาย,...  \n",
       "\n",
       "[17109 rows x 3 columns]"
      ]
     },
     "execution_count": 4,
     "metadata": {},
     "output_type": "execute_result"
    }
   ],
   "source": [
    "## drop column except for article\n",
    "df = df.drop(columns=['date', 'headline', 'url','id'])\n",
    "\n",
    "## tokenize\n",
    "df['article_tokens'] = df['article'].apply(my_tokenize)\n",
    "\n",
    "df"
   ]
  },
  {
   "cell_type": "markdown",
   "metadata": {},
   "source": [
    "# Fit model\n",
    "\n",
    "how to use :\n",
    "[https://radimrehurek.com/gensim/models/word2vec.html](https://radimrehurek.com/gensim/models/word2vec.html)\n",
    "\n",
    "- input of `Word2Vec` must be **list of list of tokens**\n",
    "- `vector_size` : Dimensionality of the word vectors (usually 100-300)\n",
    "- `window` : Maximum distance between the current and predicted word within a sentence\n",
    "- `min_count` : Ignores all words with total frequency lower than this\n",
    "- `sg` : Training algorithm: 1 for skip-gram; otherwise CBOW. (skip-gram is recommended)\n",
    "- `epoch` : Number of iterations (epochs) over the corpus"
   ]
  },
  {
   "cell_type": "code",
   "execution_count": 5,
   "metadata": {},
   "outputs": [],
   "source": [
    "## fit\n",
    "## it may take over 5 minutes\n",
    "model = Word2Vec(sentences=df['article_tokens'], vector_size=100, window=5, min_count=3, sg=1, epochs=30)"
   ]
  },
  {
   "cell_type": "markdown",
   "metadata": {},
   "source": [
    "# Word Embeddings\n",
    "\n",
    "- `model.wv.most_similar(word, topn=xx)` gives the top N words with high cosine similarity \n"
   ]
  },
  {
   "cell_type": "code",
   "execution_count": 6,
   "metadata": {},
   "outputs": [
    {
     "data": {
      "text/plain": [
       "[('รสชาติ', 0.8035041093826294),\n",
       " ('ลิ้มลอง', 0.7660192251205444),\n",
       " ('เมนู', 0.7526615858078003),\n",
       " ('กลมกล่อม', 0.7501031160354614),\n",
       " ('จุใจ', 0.7314376831054688),\n",
       " ('ถูกปาก', 0.7163810729980469),\n",
       " ('กรุบ', 0.7123017311096191),\n",
       " ('พาสต้า', 0.6868674159049988),\n",
       " ('คุณหนู', 0.6866104006767273),\n",
       " ('เครื่องเคียง', 0.6860358119010925),\n",
       " ('เย็นฉ่ำ', 0.6812074780464172),\n",
       " ('กระท้อน', 0.6786156892776489),\n",
       " ('จัดจ้าน', 0.677098274230957),\n",
       " ('Nespresso', 0.6757398247718811),\n",
       " ('เปรี้ยวหวาน', 0.6750460863113403)]"
      ]
     },
     "execution_count": 6,
     "metadata": {},
     "output_type": "execute_result"
    }
   ],
   "source": [
    "model.wv.most_similar('อร่อย', topn=15)"
   ]
  },
  {
   "cell_type": "markdown",
   "metadata": {},
   "source": [
    "- `model.wv.similarity(word1, word2)` calculates the cosine similarity of the 2 words"
   ]
  },
  {
   "cell_type": "code",
   "execution_count": 7,
   "metadata": {},
   "outputs": [
    {
     "data": {
      "text/plain": [
       "0.805702"
      ]
     },
     "execution_count": 7,
     "metadata": {},
     "output_type": "execute_result"
    }
   ],
   "source": [
    "## antonym is also similar word\n",
    "model.wv.similarity('ผู้ชาย', 'ผู้หญิง')"
   ]
  },
  {
   "cell_type": "markdown",
   "metadata": {},
   "source": [
    "- `model.wv` is like a dictionary. `model.wv[word]` gives the vector of the word"
   ]
  },
  {
   "cell_type": "code",
   "execution_count": 8,
   "metadata": {},
   "outputs": [
    {
     "data": {
      "text/plain": [
       "array([ 0.31307328, -0.07921533, -0.3867272 ,  0.13724503,  0.24059764,\n",
       "       -0.73763037, -0.5442555 ,  0.5338377 , -0.26995844, -0.29698443,\n",
       "       -0.21065362, -0.10233144, -0.27221975,  0.2997619 , -0.18413778,\n",
       "       -0.66272104,  0.20490527, -0.01256631,  0.20306937,  0.09954628,\n",
       "       -0.39045006,  0.99344844,  0.04095479, -0.49357107,  0.22121052,\n",
       "       -0.75070435, -0.91891277, -0.11065202, -0.40035784, -0.42389673,\n",
       "        0.06553186, -0.35369262,  0.7488296 ,  0.4160489 , -0.31296515,\n",
       "        0.2392835 , -0.04078358, -0.02962407, -0.40125602, -0.8883308 ,\n",
       "       -0.41820616,  0.17129114, -0.65049976,  0.36274785, -0.05608656,\n",
       "       -0.38620043,  0.4891837 , -0.5926844 ,  0.24443436,  0.74701077,\n",
       "       -0.11308683, -0.681363  , -0.13900931, -0.55174935, -0.27999875,\n",
       "        0.6628129 ,  0.62723684,  0.49221078, -0.5199675 , -0.5820469 ,\n",
       "        0.37421325,  0.20049609, -0.5923961 , -0.18502884,  0.02285597,\n",
       "       -0.26443905,  0.3510152 ,  0.840028  , -0.871073  , -0.54104793,\n",
       "        0.11868617, -0.54836476,  0.44827986,  0.38733292,  0.865231  ,\n",
       "        0.1961053 ,  0.57532585, -0.03247489, -0.02961769, -0.3397858 ,\n",
       "       -0.06818042, -0.16162491,  0.6544429 ,  0.37914208,  0.19259575,\n",
       "        0.51449585, -0.01717296, -0.23311941,  0.12391761, -0.06654283,\n",
       "        0.2656563 , -0.1326326 ,  0.18598059, -0.3920071 ,  0.3995593 ,\n",
       "       -0.01319041, -0.36960214, -0.96876824, -0.5888791 , -0.02096814],\n",
       "      dtype=float32)"
      ]
     },
     "execution_count": 8,
     "metadata": {},
     "output_type": "execute_result"
    }
   ],
   "source": [
    "model.wv['อร่อย']"
   ]
  },
  {
   "cell_type": "markdown",
   "metadata": {},
   "source": [
    "- `model.wv.most_similar()` can add/subtract vectors\n",
    "- use argument `positive` and `negative`, e.g. `model.wv.most_similar(positive=[w1, w2], negative=[w3])`"
   ]
  },
  {
   "cell_type": "code",
   "execution_count": 13,
   "metadata": {},
   "outputs": [
    {
     "data": {
      "text/plain": [
       "[('โตเกียว', 0.6219161748886108),\n",
       " ('กรุง', 0.5929952263832092),\n",
       " ('อาบูดาบี', 0.5402072668075562),\n",
       " ('ฮาเนดะ', 0.5307822227478027),\n",
       " ('แคนาดา', 0.5281808972358704),\n",
       " ('เตหะราน', 0.5262698531150818),\n",
       " ('อินโดนีเซีย', 0.5254713296890259),\n",
       " ('อัมมาน', 0.5177352428436279),\n",
       " ('ริยาด', 0.5120678544044495),\n",
       " ('นัตสึกิ', 0.5081430077552795)]"
      ]
     },
     "execution_count": 13,
     "metadata": {},
     "output_type": "execute_result"
    }
   ],
   "source": [
    "## ปักกิ่ง - จีน + ญี่ปุ่น\n",
    "model.wv.most_similar(positive=['ปักกิ่ง', 'ญี่ปุ่น'], negative=['จีน'])"
   ]
  },
  {
   "cell_type": "markdown",
   "metadata": {},
   "source": [
    "# save & load model"
   ]
  },
  {
   "cell_type": "code",
   "execution_count": 10,
   "metadata": {},
   "outputs": [],
   "source": [
    "## save the model\n",
    "## the same model is in `data` folder\n",
    "model.save(\"word2vec_matichon.model\")"
   ]
  },
  {
   "cell_type": "code",
   "execution_count": 11,
   "metadata": {},
   "outputs": [
    {
     "data": {
      "text/plain": [
       "[('เซ็กซี่', 0.6698407530784607),\n",
       " ('ลุค', 0.6534721255302429),\n",
       " ('ลๆ', 0.6369643807411194),\n",
       " ('น่ารัก', 0.6328151822090149),\n",
       " ('เป็นสาว', 0.6288453936576843),\n",
       " ('สวยงาม', 0.6232518553733826),\n",
       " ('สะบึม', 0.6176999807357788),\n",
       " ('NAMU', 0.6087443828582764),\n",
       " ('บิกินี่', 0.6073794364929199),\n",
       " ('เอ้า!', 0.5966705083847046)]"
      ]
     },
     "execution_count": 11,
     "metadata": {},
     "output_type": "execute_result"
    }
   ],
   "source": [
    "## load model \n",
    "model_loaded = Word2Vec.load(\"word2vec_matichon.model\")\n",
    "model_loaded.wv.most_similar('สวย')"
   ]
  }
 ],
 "metadata": {
  "kernelspec": {
   "display_name": "Python 3 (ipykernel)",
   "language": "python",
   "name": "python3"
  },
  "language_info": {
   "codemirror_mode": {
    "name": "ipython",
    "version": 3
   },
   "file_extension": ".py",
   "mimetype": "text/x-python",
   "name": "python",
   "nbconvert_exporter": "python",
   "pygments_lexer": "ipython3",
   "version": "3.9.13"
  },
  "vscode": {
   "interpreter": {
    "hash": "aee8b7b246df8f9039afb4144a1f6fd8d2ca17a180786b69acc140d282b71a49"
   }
  }
 },
 "nbformat": 4,
 "nbformat_minor": 4
}
