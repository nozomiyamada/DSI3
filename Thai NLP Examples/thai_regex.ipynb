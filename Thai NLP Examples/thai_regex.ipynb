{
  "cells": [
    {
      "cell_type": "code",
      "execution_count": null,
      "metadata": {
        "id": "wci7ppnSyrD_"
      },
      "outputs": [],
      "source": [
        "import re"
      ]
    },
    {
      "cell_type": "markdown",
      "metadata": {
        "id": "nGF_j-R5y0zp"
      },
      "source": [
        "## unicode block for Thai characters\n",
        "\n",
        "https://en.wikipedia.org/wiki/Thai_(Unicode_block)\n",
        "\n",
        "### <table><tbody>\n",
        "<tr><td></td><td>0</td><td>1</td><td>2</td><td>3</td><td>4</td><td>5</td><td>6</td><td>7</td><td>8</td><td>9</td><td>A</td><td>B</td><td>C</td><td>D</td><td>E</td><td>F</td></tr>\n",
        "<td>U+0E0x</td><td></td><td>ก</td><td>ข</td><td>ฃ</td><td>ค</td><td>ฅ</td><td>ฆ</td><td>ง</td><td>จ</td><td>ฉ</td><td>ช</td><td>ซ</td><td>ฌ</td><td>ญ</td><td>ฎ</td><td>ฏ</td></tr><tr><td>U+0E1x</td><td>ฐ</td><td>ฑ</td><td>ฒ</td><td>ณ</td><td>ด</td><td>ต</td><td>ถ</td><td>ท</td><td>ธ</td><td>น</td><td>บ</td><td>ป</td><td>ผ</td><td>ฝ</td><td>พ</td><td>ฟ</td></tr><tr><td>U+0E2x</td><td>ภ</td><td>ม</td><td>ย</td><td>ร</td><td>ฤ</td><td>ล</td><td>ฦ</td><td>ว</td><td>ศ</td><td>ษ</td><td>ส</td><td>ห</td><td>ฬ</td><td>อ</td><td>ฮ</td><td>ฯ</td></tr><tr><td>U+0E3x</td><td>ะ</td><td>ั</td><td>า</td><td>ำ</td><td>ิ</td><td>ี</td><td>ึ</td><td>ื</td><td>ุ</td><td>ู</td><td>ฺ</td><td></td><td></td><td></td><td></td><td>฿</td></tr><tr><td>U+0E4x</td><td>เ</td><td>แ</td><td>โ</td><td>ใ</td><td>ไ</td><td>ๅ</td><td>ๆ</td><td>็</td><td>่</td><td>้</td><td>๊</td><td>๋</td><td>์</td><td>ํ</td><td>๎</td><td>๏</td></tr><tr><td>U+0E5x</td><td>๐</td><td>๑</td><td>๒</td><td>๓</td><td>๔</td><td>๕</td><td>๖</td><td>๗</td><td>๘</td><td>๙</td><td>๚</td><td>๛</td><td></td><td></td><td></td><td></td></tr><tr><td>U+0E6x</td><td></td><td></td><td></td><td></td><td></td><td></td><td></td><td></td><td></td><td></td><td></td><td></td><td></td><td></td><td></td><td></td></tr><tr><td>U+0E7x</td><td></td><td></td><td></td><td></td><td></td><td></td><td></td><td></td><td></td><td></td><td></td><td></td><td></td><td></td><td></td><td></td></tr><tbody></table>\n",
        "\n",
        "\n",
        "- in Python, you can specify unicode (UTF-8) characters as a format `\\uXXXX`\n",
        "- for example, `\\u0e01` for `ก`\n",
        "- Python has built-in function `ascii()` to check unicode escaped sequence"
      ]
    },
    {
      "cell_type": "code",
      "execution_count": null,
      "metadata": {
        "colab": {
          "base_uri": "https://localhost:8080/"
        },
        "id": "kkjxqfKGyvH1",
        "outputId": "429654b6-d6a5-4369-8702-eb7891f2dde5"
      },
      "outputs": [
        {
          "name": "stdout",
          "output_type": "stream",
          "text": [
            "สวัสดี\n"
          ]
        }
      ],
      "source": [
        "text = '\\u0e2a\\u0e27\\u0e31\\u0e2a\\u0e14\\u0e35'\n",
        "print(text)"
      ]
    },
    {
      "cell_type": "code",
      "execution_count": null,
      "metadata": {
        "colab": {
          "base_uri": "https://localhost:8080/"
        },
        "id": "BqxANfYXytCn",
        "outputId": "fabf5ac7-835c-4b7d-d2b0-e2fbe43ab196"
      },
      "outputs": [
        {
          "name": "stdout",
          "output_type": "stream",
          "text": [
            "'\\u0e2a\\u0e27\\u0e31\\u0e2a\\u0e14\\u0e35'\n"
          ]
        }
      ],
      "source": [
        "# unicode escaped string\n",
        "text = 'สวัสดี'\n",
        "print(ascii(text))"
      ]
    },
    {
      "cell_type": "markdown",
      "metadata": {
        "id": "8rTjOcaNzDAS"
      },
      "source": [
        "## Thai regex examples\n",
        "\n",
        "- to specify _\"any Thai characters\"_ in regex, you can use `[ก-๛]` or `[ก-๙]`\n",
        "- _\"any Thai characters excluding digit\"_ `[ก-์]`"
      ]
    },
    {
      "cell_type": "code",
      "execution_count": null,
      "metadata": {
        "colab": {
          "base_uri": "https://localhost:8080/"
        },
        "id": "U9HauA29zAvo",
        "outputId": "35d1163a-6a5e-4bdb-aa70-371b01e72276"
      },
      "outputs": [
        {
          "data": {
            "text/plain": [
              "<re.Match object; span=(18, 23), match='สมชาย'>"
            ]
          },
          "execution_count": 4,
          "metadata": {},
          "output_type": "execute_result"
        }
      ],
      "source": [
        "text = \"Hello. My Name is สมชาย from Thailand\"\n",
        "re.search(r'[ก-๙]+', text)"
      ]
    },
    {
      "cell_type": "markdown",
      "metadata": {
        "id": "DnXSDaCnzK-9"
      },
      "source": [
        "- but it does not match some special characters such as `-` `.`"
      ]
    },
    {
      "cell_type": "code",
      "execution_count": null,
      "metadata": {
        "colab": {
          "base_uri": "https://localhost:8080/"
        },
        "id": "U3Pz_9OkzH5y",
        "outputId": "7a9bfb5b-3277-4294-b997-c270793cfc5c"
      },
      "outputs": [
        {
          "data": {
            "text/plain": [
              "<re.Match object; span=(12, 13), match='ต'>"
            ]
          },
          "execution_count": 5,
          "metadata": {},
          "output_type": "execute_result"
        }
      ],
      "source": [
        "# match only the first character before . (dot)\n",
        "text = 'Today is 30 ต.ค. 2566'\n",
        "re.search(r'[ก-๙]+', text)"
      ]
    },
    {
      "cell_type": "code",
      "execution_count": null,
      "metadata": {
        "colab": {
          "base_uri": "https://localhost:8080/"
        },
        "id": "e2wVlssTMJvS",
        "outputId": "50d3a4e5-6819-4c6f-b27e-01e8b3e9eacf"
      },
      "outputs": [
        {
          "data": {
            "text/plain": [
              "<re.Match object; span=(12, 16), match='ต.ค.'>"
            ]
          },
          "execution_count": 6,
          "metadata": {},
          "output_type": "execute_result"
        }
      ],
      "source": [
        "text = 'Today is 30 ต.ค. 2566'\n",
        "re.search(r'[ก-๙\\.]+', text)"
      ]
    },
    {
      "cell_type": "markdown",
      "metadata": {
        "id": "IEbnIILFzPAD"
      },
      "source": [
        "- `\\w` (word character) is **not recommended for Thai words**, since vowel characters/tone characters are regarded as non-word"
      ]
    },
    {
      "cell_type": "code",
      "execution_count": null,
      "metadata": {
        "colab": {
          "base_uri": "https://localhost:8080/"
        },
        "id": "Ji8rZfSCMnqq",
        "outputId": "71079f5f-28aa-4949-a679-bfdd5e15ab35"
      },
      "outputs": [
        {
          "data": {
            "text/plain": [
              "<re.Match object; span=(2, 7), match='Hello'>"
            ]
          },
          "execution_count": 7,
          "metadata": {},
          "output_type": "execute_result"
        }
      ],
      "source": [
        "# in English\n",
        "text = \".-Hello!?\"\n",
        "re.search(r'\\w+', text)"
      ]
    },
    {
      "cell_type": "code",
      "execution_count": null,
      "metadata": {
        "colab": {
          "base_uri": "https://localhost:8080/"
        },
        "id": "JCzV38PVzM1b",
        "outputId": "eb4a34db-f14f-4527-c258-f6e21aa164e4"
      },
      "outputs": [
        {
          "data": {
            "text/plain": [
              "<re.Match object; span=(0, 2), match='สว'>"
            ]
          },
          "execution_count": 8,
          "metadata": {},
          "output_type": "execute_result"
        }
      ],
      "source": [
        "# not match with  ั\n",
        "text = 'สวัสดี'\n",
        "re.search(r'\\w+', text)"
      ]
    },
    {
      "cell_type": "code",
      "execution_count": null,
      "metadata": {
        "colab": {
          "base_uri": "https://localhost:8080/"
        },
        "id": "0nv_WAF9M5sH",
        "outputId": "b271523e-f92e-4462-87e1-4af3e0d146ee"
      },
      "outputs": [
        {
          "data": {
            "text/plain": [
              "<re.Match object; span=(0, 2), match='อร'>"
            ]
          },
          "execution_count": 9,
          "metadata": {},
          "output_type": "execute_result"
        }
      ],
      "source": [
        "# not match with tone characters\n",
        "text = 'อร่อย'\n",
        "re.search(r'\\w+', text)"
      ]
    },
    {
      "cell_type": "markdown",
      "metadata": {
        "id": "J0UL_jOMzV9o"
      },
      "source": [
        "- if you want to match \"_any word including Thai but excluding digit_\", use something like `[A-zก-๙\\-\\.\\']+`"
      ]
    },
    {
      "cell_type": "code",
      "execution_count": null,
      "metadata": {
        "colab": {
          "base_uri": "https://localhost:8080/"
        },
        "id": "EmHf-SRlzSda",
        "outputId": "24d0619a-8689-4ec4-c161-e86eae7aad08"
      },
      "outputs": [
        {
          "data": {
            "text/plain": [
              "['ผม', 'ชื่อ', 'สมชาย', 'เกิด', 'ปี', 'พ.ศ.', 'ที่', 'Hokkaido']"
            ]
          },
          "execution_count": 10,
          "metadata": {},
          "output_type": "execute_result"
        }
      ],
      "source": [
        "text = 'ผม ชื่อ สมชาย เกิด ปี พ.ศ. 2540\\nที่\\tHokkaido'\n",
        "re.findall(r'[A-zก-๙\\-\\.\\']+', text)"
      ]
    },
    {
      "cell_type": "markdown",
      "metadata": {
        "id": "SXbp_BpEza4B"
      },
      "source": [
        "- Don't believe what we see on display\n",
        "- e.g. vowel  ำ \"am\""
      ]
    },
    {
      "cell_type": "code",
      "execution_count": null,
      "metadata": {
        "colab": {
          "base_uri": "https://localhost:8080/"
        },
        "id": "C6SZq7AFzYyY",
        "outputId": "9caf8118-7729-407f-f77e-aabbb130e9ca"
      },
      "outputs": [
        {
          "name": "stdout",
          "output_type": "stream",
          "text": [
            "นำ้\n",
            "น้ำ\n",
            "น้ํา\n"
          ]
        }
      ],
      "source": [
        "# 3 different sequences, but print the same\n",
        "text1 = '\\u0e19\\u0e33\\u0e49' # น + ำ + tone\n",
        "text2 = '\\u0e19\\u0e49\\u0e33' # น + tone + ำ\n",
        "text3 = '\\u0e19\\u0e49\\u0e4d\\u0e32' # น + tone + o + า\n",
        "\n",
        "print(text1)\n",
        "print(text2)\n",
        "print(text3)"
      ]
    },
    {
      "cell_type": "code",
      "execution_count": null,
      "metadata": {
        "colab": {
          "base_uri": "https://localhost:8080/"
        },
        "id": "LmdbXvXfzc5S",
        "outputId": "7c499196-7f84-4730-d4bd-2be79b849161"
      },
      "outputs": [
        {
          "data": {
            "text/plain": [
              "False"
            ]
          },
          "execution_count": 12,
          "metadata": {},
          "output_type": "execute_result"
        }
      ],
      "source": [
        "\"นำ้\" == \"น้ำ\""
      ]
    },
    {
      "cell_type": "markdown",
      "metadata": {
        "id": "k16paPKj2L36"
      },
      "source": [
        "- shrink reduplication"
      ]
    },
    {
      "cell_type": "code",
      "execution_count": null,
      "metadata": {
        "colab": {
          "base_uri": "https://localhost:8080/",
          "height": 35
        },
        "id": "OInyoixq1Igg",
        "outputId": "f311f2bd-76b3-4768-8b1f-1bcd05811f81"
      },
      "outputs": [
        {
          "data": {
            "application/vnd.google.colaboratory.intrinsic+json": {
              "type": "string"
            },
            "text/plain": [
              "'อร่อยมากๆ จุ๊บๆ'"
            ]
          },
          "execution_count": 13,
          "metadata": {},
          "output_type": "execute_result"
        }
      ],
      "source": [
        "# shrink consecutive ๆ\n",
        "# ๆๆ+ means \"2 or more\" (exclude single ๆ)\n",
        "text = 'อร่อยมากๆๆๆๆๆๆๆ จุ๊บๆ'\n",
        "re.sub(r'ๆๆ+', 'ๆ', text)"
      ]
    },
    {
      "cell_type": "markdown",
      "metadata": {
        "id": "5rJjyldB5qTv"
      },
      "source": [
        "- an example to extract names from sentence\n",
        "- `(?:)` means grouping without capture"
      ]
    },
    {
      "cell_type": "code",
      "execution_count": null,
      "metadata": {
        "colab": {
          "base_uri": "https://localhost:8080/"
        },
        "id": "elMm59Tr2jM1",
        "outputId": "6b608825-c02c-46ac-ea99-320e0cfec044"
      },
      "outputs": [
        {
          "data": {
            "text/plain": [
              "['สมชาย แซ่ตั้ง', 'สมหญิง บุญช่วย']"
            ]
          },
          "execution_count": 14,
          "metadata": {},
          "output_type": "execute_result"
        }
      ],
      "source": [
        "# match the pattern : นาย or นางสาว + Thai characters + space + Thai characters\n",
        "text = \"เมื่อวันที่ 30 ต.ค. นายสมชาย แซ่ตั้ง พร้อมด้วยภรรยาเดินทางไปพบนางสาวสมหญิง บุญช่วย ที่โรงพยาบาลศิริราช\"\n",
        "re.findall(r'(?:นาย|นางสาว)([ก-๙]+\\s[ก-๙]+)', text)"
      ]
    },
    {
      "cell_type": "markdown",
      "metadata": {
        "id": "Yad40aUvraTm"
      },
      "source": [
        "\n",
        "\n",
        "*   an example to extract year in Thai language\n",
        "\n"
      ]
    },
    {
      "cell_type": "code",
      "execution_count": null,
      "metadata": {
        "colab": {
          "base_uri": "https://localhost:8080/"
        },
        "id": "tzN78bn2rZxP",
        "outputId": "b75c9b02-6faa-48fd-aa7a-64e51724d7ac"
      },
      "outputs": [
        {
          "name": "stdout",
          "output_type": "stream",
          "text": [
            "(พ.ศ.|ค.ศ.|ม.ศ.|ฮ.ศ.|จ.ศ.|ร.ศ.)\\s*(\\d+)\n"
          ]
        }
      ],
      "source": [
        "# an example to extract year in Thai language\n",
        "# create a year capturing pattern: unique_year_name_group and digit group (\\d+)\n",
        "unique_year_name_group = '(พ.ศ.|ค.ศ.|ม.ศ.|ฮ.ศ.|จ.ศ.|ร.ศ.)'\n",
        "pattern = unique_year_name_group + r'\\s*(\\d+)'\n",
        "print(pattern)"
      ]
    },
    {
      "cell_type": "code",
      "execution_count": null,
      "metadata": {
        "colab": {
          "base_uri": "https://localhost:8080/"
        },
        "id": "VL-t1KnSwEGs",
        "outputId": "59a1a498-6a75-4a26-b19e-9717ec833abf"
      },
      "outputs": [
        {
          "name": "stdout",
          "output_type": "stream",
          "text": [
            "[('พ.ศ.', '2540')]\n",
            "[('ค.ศ.', '1989')]\n",
            "[('ร.ศ.', '12'), ('ม.ศ.', '189')]\n",
            "[]\n"
          ]
        }
      ],
      "source": [
        "text1 = \"ผมชื่อสมชาย เกิดปีพ.ศ. 2540 ที่ Hokkaido\" # [(\"พ.ศ.\", \"2540\")]\n",
        "text2 = \"ผมชื่อสมหมาย เกิดปีค.ศ.1989 ที่ Manhattan\" # [(\"ค.ศ.\", \"1989\")]\n",
        "text3 = \"ผมชื่อสมปอง เกิดปีร.ศ.  12 ที่กรุงรัตนโกสินทร์ แต่เดินทางข้ามเวลามาที่อินเดียในช่วงม.ศ.189\" # [(\"ร.ศ.\", \"12\"), (\"ม.ศ.\", \"189\")]\n",
        "text4 = \"ผมชื่อสมปัถย์ เกิดปีอะไรไม่รู้ รู้แต่ว่าเป็นรศ.คนที่ 3 ของภาควิชา\" # []\n",
        "\n",
        "for t in [text1, text2, text3, text4]: # loop through each text to see the output\n",
        "    print(re.findall(pattern, t))"
      ]
    },
    {
      "cell_type": "markdown",
      "metadata": {
        "id": "9Plc2TxAsrsI"
      },
      "source": [
        "\n",
        "\n",
        "*   an example to edit เเ (two เ) into แ\n",
        "*   we use re.sub() (or we can even use `.replace()` method for the sake of simplicity).\n",
        "\n"
      ]
    },
    {
      "cell_type": "code",
      "execution_count": null,
      "metadata": {
        "colab": {
          "base_uri": "https://localhost:8080/"
        },
        "id": "xiBzWBRA7QpJ",
        "outputId": "f4c03cd0-1075-48c5-fddb-cd0977dd2a0c"
      },
      "outputs": [
        {
          "name": "stdout",
          "output_type": "stream",
          "text": [
            "False\n",
            "True\n"
          ]
        }
      ],
      "source": [
        "# an example to edit เเ (two เ) into แ\n",
        "# we use re.sub() (or we can even use .replace() method for the sake of simplicity).\n",
        "text = 'นางสาวเเพทองธาร ชินวัตร'\n",
        "print('แพทองธาร' in text)\n",
        "\n",
        "text = re.sub(r'เเ', 'แ', text)\n",
        "print('แพทองธาร' in text)"
      ]
    }
  ],
  "metadata": {
    "colab": {
      "provenance": []
    },
    "kernelspec": {
      "display_name": "Python 3",
      "name": "python3"
    },
    "language_info": {
      "name": "python"
    }
  },
  "nbformat": 4,
  "nbformat_minor": 0
}
