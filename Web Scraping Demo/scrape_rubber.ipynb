{
 "cells": [
  {
   "cell_type": "markdown",
   "metadata": {},
   "source": [
    "## import"
   ]
  },
  {
   "cell_type": "code",
   "execution_count": 1,
   "metadata": {},
   "outputs": [],
   "source": [
    "from selenium import webdriver\n",
    "from bs4 import BeautifulSoup\n",
    "import pandas as pd\n",
    "from tqdm import tqdm\n",
    "from time import sleep\n",
    "import re\n",
    "\n",
    "# function to convert Thai datetime\n",
    "# \"22 กันยายน  2565\" -> 2022-09-22\n",
    "def convert_date_thai(original_date): \n",
    "\tday, month, year = re.split(' +', original_date)  # split by any length of whitespace  \n",
    "\tyear = int(year) - 543 \n",
    "\tif len(day) == 1:\n",
    "\t\tday = '0' + day  # 3 -> 03\n",
    "\tmonth = {'มกราคม':'01','กุมภาพันธ์':'02','มีนาคม':'03','เมษายน':'04','พฤษภาคม':'05','มิถุนายน':'06',\n",
    "\t\t\t'กรกฎาคม':'07', 'กรกฏาคม':'07', 'สิงหาคม':'08','กันยายน':'09','ตุลาคม':'10','พฤศจิกายน':'11','ธันวาคม':'12'}[month]\n",
    "\treturn f'{year}-{month}-{day}'\n"
   ]
  },
  {
   "cell_type": "markdown",
   "metadata": {},
   "source": [
    "## instantiate webdriver"
   ]
  },
  {
   "cell_type": "code",
   "execution_count": 2,
   "metadata": {},
   "outputs": [],
   "source": [
    "## instantiation\n",
    "driver = webdriver.Chrome()\n",
    "\n",
    "## get page\n",
    "url = 'http://www.raot.co.th/rubber2012/menu5.php'\n",
    "driver.get(url)"
   ]
  },
  {
   "cell_type": "markdown",
   "metadata": {},
   "source": [
    "## scrape the table of one month"
   ]
  },
  {
   "cell_type": "code",
   "execution_count": 3,
   "metadata": {},
   "outputs": [],
   "source": [
    "## set month and year in the left selectbox\n",
    "## target selectboxes has id \"select\" and \"year\"\n",
    "month_to_scrape = 12\n",
    "year_to_scrape = 2565\n",
    "\n",
    "## run JavaScript command\n",
    "driver.execute_script(f\"document.getElementById('select').value={month_to_scrape};\")\n",
    "driver.execute_script(f\"document.getElementById('year').value={year_to_scrape};\")"
   ]
  },
  {
   "cell_type": "code",
   "execution_count": 4,
   "metadata": {},
   "outputs": [],
   "source": [
    "## click the GO button, then the page transits\n",
    "driver.execute_script(f\"document.querySelector('input[type=submit]').click();\")\n",
    "\n",
    "## or, you can use this too\n",
    "# driver.find_element(By.NAME, 'Submit').click()"
   ]
  },
  {
   "cell_type": "code",
   "execution_count": 5,
   "metadata": {},
   "outputs": [],
   "source": [
    "## convert to BeautifulSoup\n",
    "## this page DOES NOT use utf-8 encoding, but TIS-620 encoding\n",
    "soup = BeautifulSoup(driver.page_source.encode('TIS-620'))"
   ]
  },
  {
   "cell_type": "code",
   "execution_count": 6,
   "metadata": {},
   "outputs": [],
   "source": [
    "## target table has no id, so use CSS selector instead\n",
    "## #ewt_main_structure > tbody > tr:nth-child(2) > td > div > center > table:last-child > tbody\n",
    "css_selector = \"#ewt_main_structure > tbody > tr:nth-child(2) > td > div > center > table:last-child > tbody\"\n",
    "table_soup = soup.select_one(css_selector) # extract all table data"
   ]
  },
  {
   "cell_type": "code",
   "execution_count": 7,
   "metadata": {},
   "outputs": [
    {
     "data": {
      "text/plain": [
       "22"
      ]
     },
     "execution_count": 7,
     "metadata": {},
     "output_type": "execute_result"
    }
   ],
   "source": [
    "## first two <tr> are header -> ignore\n",
    "## target table contains inner tables, so get only 'children' (not grandchildren)\n",
    "## so, set recursive = False\n",
    "table_rows = table_soup.find_all('tr', recursive=False)\n",
    "len(table_rows)"
   ]
  },
  {
   "cell_type": "code",
   "execution_count": 8,
   "metadata": {},
   "outputs": [
    {
     "data": {
      "text/plain": [
       "[<tr bgcolor=\"#F5CC6B\">\n",
       " <td height=\"22\" rowspan=\"2\" width=\"17%\"><div align=\"center\"><font color=\"#000000\" face=\"Tahoma, MS Sans Serif, AngsanaUPC\" size=\"2\">วัน/เดือน/ปี</font></div></td>\n",
       " <td colspan=\"2\" height=\"22\"><div align=\"center\"><font color=\"#000000\" face=\"Tahoma, MS Sans Serif, AngsanaUPC\" size=\"2\">ท้องถิ่น</font></div></td>\n",
       " <td colspan=\"4\" height=\"22\"><div align=\"center\"><font color=\"#000000\" face=\"Tahoma, MS Sans Serif, AngsanaUPC\" size=\"2\">ราคาประมูล \n",
       "                             ณ ตลาดกลางยางพารา อ.หาดใหญ่</font></div></td>\n",
       " </tr>,\n",
       " <tr>\n",
       " <td bgcolor=\"#F5CC6B\" height=\"22\" width=\"9%\"><div align=\"center\"><font color=\"#000000\" face=\"Tahoma, MS Sans Serif, AngsanaUPC\" size=\"2\">ยางแผ่นดิบ</font></div></td>\n",
       " <td bgcolor=\"#F5CC6B\" height=\"22\" width=\"10%\"><div align=\"center\"><font color=\"#000000\" face=\"Tahoma, MS Sans Serif, AngsanaUPC\" size=\"2\">น้ำยางสด<br/>(ณ โรงงาน)</font></div></td>\n",
       " <td bgcolor=\"#F5CC6B\" height=\"22\" width=\"10%\"><div align=\"center\"><font color=\"#000000\" face=\"Tahoma, MS Sans Serif, AngsanaUPC\" size=\"2\">ยางแผ่นดิบ</font></div></td>\n",
       " <td bgcolor=\"#F5CC6B\" height=\"22\" width=\"11%\"><div align=\"center\"><font color=\"#000000\" face=\"Tahoma, MS Sans Serif, AngsanaUPC\" size=\"2\">ยางแผ่นรมควัน \n",
       "                             ชั้น3</font></div></td>\n",
       " <td bgcolor=\"#F5CC6B\" width=\"11%\">\n",
       " <div align=\"center\"><font color=\"#000000\" face=\"Tahoma, MS Sans Serif, AngsanaUPC\" size=\"2\">น้ำยางสด</font></div></td>\n",
       " <td bgcolor=\"#F5CC6B\" height=\"22\" width=\"19%\"><div align=\"center\"><font color=\"#000000\" face=\"Tahoma, MS Sans Serif, AngsanaUPC\" size=\"2\">FOB<br/>\n",
       "                             (Bangkok) </font></div></td>\n",
       " </tr>]"
      ]
     },
     "execution_count": 8,
     "metadata": {},
     "output_type": "execute_result"
    }
   ],
   "source": [
    "# show first 2 elements of table\n",
    "# we have to iterate <td> tags to get data\n",
    "table_rows[:2]"
   ]
  },
  {
   "cell_type": "markdown",
   "metadata": {},
   "source": [
    "## make DataFrame from table data"
   ]
  },
  {
   "cell_type": "code",
   "execution_count": 9,
   "metadata": {},
   "outputs": [],
   "source": [
    "header = ['วัน/เดือน/ปี','ยางแผ่นดิบ','น้ำยางสด','ยางแผ่นดิบ','ยางแผ่นรมควัน ชั้น3','น้ำยางสด','FOB']\n",
    "df = pd.DataFrame(columns=header)\n",
    "\n",
    "## iterate rows from index=2, because first 2 rows are header\n",
    "## final row is mean -> ignore\n",
    "for row_index in range(2, len(table_rows)-1):\n",
    "    ## get first column = date\n",
    "    date = table_rows[row_index].find('td').text.strip()\n",
    "    ## iterate each inner-table in the row (len = 6)\n",
    "    data_in_row = [convert_date_thai(date)]\n",
    "    for tb in table_rows[row_index].find_all('table'):\n",
    "        value = tb.find('td').text.strip()\n",
    "        try:\n",
    "            value = float(value)\n",
    "        except:\n",
    "            value = None\n",
    "        data_in_row.append(value)\n",
    "    df.loc[len(df)] = data_in_row"
   ]
  },
  {
   "cell_type": "code",
   "execution_count": 10,
   "metadata": {},
   "outputs": [
    {
     "data": {
      "text/html": [
       "<div>\n",
       "<style scoped>\n",
       "    .dataframe tbody tr th:only-of-type {\n",
       "        vertical-align: middle;\n",
       "    }\n",
       "\n",
       "    .dataframe tbody tr th {\n",
       "        vertical-align: top;\n",
       "    }\n",
       "\n",
       "    .dataframe thead th {\n",
       "        text-align: right;\n",
       "    }\n",
       "</style>\n",
       "<table border=\"1\" class=\"dataframe\">\n",
       "  <thead>\n",
       "    <tr style=\"text-align: right;\">\n",
       "      <th></th>\n",
       "      <th>วัน/เดือน/ปี</th>\n",
       "      <th>ยางแผ่นดิบ</th>\n",
       "      <th>น้ำยางสด</th>\n",
       "      <th>ยางแผ่นดิบ</th>\n",
       "      <th>ยางแผ่นรมควัน ชั้น3</th>\n",
       "      <th>น้ำยางสด</th>\n",
       "      <th>FOB</th>\n",
       "    </tr>\n",
       "  </thead>\n",
       "  <tbody>\n",
       "    <tr>\n",
       "      <th>0</th>\n",
       "      <td>2022-12-01</td>\n",
       "      <td>42.65</td>\n",
       "      <td>44.1</td>\n",
       "      <td>NaN</td>\n",
       "      <td>46.82</td>\n",
       "      <td>None</td>\n",
       "      <td>56.10</td>\n",
       "    </tr>\n",
       "    <tr>\n",
       "      <th>1</th>\n",
       "      <td>2022-12-02</td>\n",
       "      <td>42.65</td>\n",
       "      <td>44.1</td>\n",
       "      <td>44.0</td>\n",
       "      <td>46.8</td>\n",
       "      <td>None</td>\n",
       "      <td>56.10</td>\n",
       "    </tr>\n",
       "    <tr>\n",
       "      <th>2</th>\n",
       "      <td>2022-12-06</td>\n",
       "      <td>42.65</td>\n",
       "      <td>44.1</td>\n",
       "      <td>None</td>\n",
       "      <td>46.9</td>\n",
       "      <td>None</td>\n",
       "      <td>56.25</td>\n",
       "    </tr>\n",
       "    <tr>\n",
       "      <th>3</th>\n",
       "      <td>2022-12-07</td>\n",
       "      <td>43.00</td>\n",
       "      <td>44.4</td>\n",
       "      <td>None</td>\n",
       "      <td>47.25</td>\n",
       "      <td>None</td>\n",
       "      <td>56.60</td>\n",
       "    </tr>\n",
       "    <tr>\n",
       "      <th>4</th>\n",
       "      <td>2022-12-08</td>\n",
       "      <td>43.35</td>\n",
       "      <td>44.5</td>\n",
       "      <td>None</td>\n",
       "      <td>47.35</td>\n",
       "      <td>None</td>\n",
       "      <td>56.70</td>\n",
       "    </tr>\n",
       "    <tr>\n",
       "      <th>5</th>\n",
       "      <td>2022-12-09</td>\n",
       "      <td>43.60</td>\n",
       "      <td>44.7</td>\n",
       "      <td>44.75</td>\n",
       "      <td>47.6</td>\n",
       "      <td>None</td>\n",
       "      <td>56.95</td>\n",
       "    </tr>\n",
       "    <tr>\n",
       "      <th>6</th>\n",
       "      <td>2022-12-13</td>\n",
       "      <td>43.60</td>\n",
       "      <td>44.9</td>\n",
       "      <td>44.8</td>\n",
       "      <td>47.7</td>\n",
       "      <td>None</td>\n",
       "      <td>57.10</td>\n",
       "    </tr>\n",
       "    <tr>\n",
       "      <th>7</th>\n",
       "      <td>2022-12-14</td>\n",
       "      <td>43.65</td>\n",
       "      <td>45.3</td>\n",
       "      <td>None</td>\n",
       "      <td>47.9</td>\n",
       "      <td>None</td>\n",
       "      <td>57.35</td>\n",
       "    </tr>\n",
       "    <tr>\n",
       "      <th>8</th>\n",
       "      <td>2022-12-15</td>\n",
       "      <td>43.50</td>\n",
       "      <td>45.4</td>\n",
       "      <td>None</td>\n",
       "      <td>48.55</td>\n",
       "      <td>None</td>\n",
       "      <td>57.45</td>\n",
       "    </tr>\n",
       "    <tr>\n",
       "      <th>9</th>\n",
       "      <td>2022-12-16</td>\n",
       "      <td>43.75</td>\n",
       "      <td>45.5</td>\n",
       "      <td>None</td>\n",
       "      <td>48.59</td>\n",
       "      <td>None</td>\n",
       "      <td>57.45</td>\n",
       "    </tr>\n",
       "    <tr>\n",
       "      <th>10</th>\n",
       "      <td>2022-12-19</td>\n",
       "      <td>43.75</td>\n",
       "      <td>45.6</td>\n",
       "      <td>45.0</td>\n",
       "      <td>None</td>\n",
       "      <td>None</td>\n",
       "      <td>57.25</td>\n",
       "    </tr>\n",
       "    <tr>\n",
       "      <th>11</th>\n",
       "      <td>2022-12-20</td>\n",
       "      <td>43.65</td>\n",
       "      <td>45.8</td>\n",
       "      <td>None</td>\n",
       "      <td>47.8</td>\n",
       "      <td>None</td>\n",
       "      <td>57.05</td>\n",
       "    </tr>\n",
       "    <tr>\n",
       "      <th>12</th>\n",
       "      <td>2022-12-21</td>\n",
       "      <td>43.65</td>\n",
       "      <td>46.0</td>\n",
       "      <td>None</td>\n",
       "      <td>47.98</td>\n",
       "      <td>None</td>\n",
       "      <td>56.90</td>\n",
       "    </tr>\n",
       "    <tr>\n",
       "      <th>13</th>\n",
       "      <td>2022-12-22</td>\n",
       "      <td>43.65</td>\n",
       "      <td>46.1</td>\n",
       "      <td>None</td>\n",
       "      <td>47.9</td>\n",
       "      <td>None</td>\n",
       "      <td>57.00</td>\n",
       "    </tr>\n",
       "    <tr>\n",
       "      <th>14</th>\n",
       "      <td>2022-12-23</td>\n",
       "      <td>43.20</td>\n",
       "      <td>46.1</td>\n",
       "      <td>44.5</td>\n",
       "      <td>47.88</td>\n",
       "      <td>None</td>\n",
       "      <td>56.85</td>\n",
       "    </tr>\n",
       "    <tr>\n",
       "      <th>15</th>\n",
       "      <td>2022-12-26</td>\n",
       "      <td>43.00</td>\n",
       "      <td>44.6</td>\n",
       "      <td>None</td>\n",
       "      <td>47.1</td>\n",
       "      <td>None</td>\n",
       "      <td>56.10</td>\n",
       "    </tr>\n",
       "    <tr>\n",
       "      <th>16</th>\n",
       "      <td>2022-12-27</td>\n",
       "      <td>43.00</td>\n",
       "      <td>43.3</td>\n",
       "      <td>43.89</td>\n",
       "      <td>47.04</td>\n",
       "      <td>None</td>\n",
       "      <td>56.25</td>\n",
       "    </tr>\n",
       "    <tr>\n",
       "      <th>17</th>\n",
       "      <td>2022-12-28</td>\n",
       "      <td>43.00</td>\n",
       "      <td>43.3</td>\n",
       "      <td>None</td>\n",
       "      <td>47.09</td>\n",
       "      <td>None</td>\n",
       "      <td>56.25</td>\n",
       "    </tr>\n",
       "    <tr>\n",
       "      <th>18</th>\n",
       "      <td>2022-12-29</td>\n",
       "      <td>42.90</td>\n",
       "      <td>43.3</td>\n",
       "      <td>44.1</td>\n",
       "      <td>47.61</td>\n",
       "      <td>None</td>\n",
       "      <td>56.60</td>\n",
       "    </tr>\n",
       "  </tbody>\n",
       "</table>\n",
       "</div>"
      ],
      "text/plain": [
       "   วัน/เดือน/ปี ยางแผ่นดิบ น้ำยางสด ยางแผ่นดิบ ยางแผ่นรมควัน ชั้น3 น้ำยางสด  \\\n",
       "0    2022-12-01      42.65     44.1        NaN               46.82     None   \n",
       "1    2022-12-02      42.65     44.1       44.0                46.8     None   \n",
       "2    2022-12-06      42.65     44.1       None                46.9     None   \n",
       "3    2022-12-07      43.00     44.4       None               47.25     None   \n",
       "4    2022-12-08      43.35     44.5       None               47.35     None   \n",
       "5    2022-12-09      43.60     44.7      44.75                47.6     None   \n",
       "6    2022-12-13      43.60     44.9       44.8                47.7     None   \n",
       "7    2022-12-14      43.65     45.3       None                47.9     None   \n",
       "8    2022-12-15      43.50     45.4       None               48.55     None   \n",
       "9    2022-12-16      43.75     45.5       None               48.59     None   \n",
       "10   2022-12-19      43.75     45.6       45.0                None     None   \n",
       "11   2022-12-20      43.65     45.8       None                47.8     None   \n",
       "12   2022-12-21      43.65     46.0       None               47.98     None   \n",
       "13   2022-12-22      43.65     46.1       None                47.9     None   \n",
       "14   2022-12-23      43.20     46.1       44.5               47.88     None   \n",
       "15   2022-12-26      43.00     44.6       None                47.1     None   \n",
       "16   2022-12-27      43.00     43.3      43.89               47.04     None   \n",
       "17   2022-12-28      43.00     43.3       None               47.09     None   \n",
       "18   2022-12-29      42.90     43.3       44.1               47.61     None   \n",
       "\n",
       "      FOB  \n",
       "0   56.10  \n",
       "1   56.10  \n",
       "2   56.25  \n",
       "3   56.60  \n",
       "4   56.70  \n",
       "5   56.95  \n",
       "6   57.10  \n",
       "7   57.35  \n",
       "8   57.45  \n",
       "9   57.45  \n",
       "10  57.25  \n",
       "11  57.05  \n",
       "12  56.90  \n",
       "13  57.00  \n",
       "14  56.85  \n",
       "15  56.10  \n",
       "16  56.25  \n",
       "17  56.25  \n",
       "18  56.60  "
      ]
     },
     "execution_count": 10,
     "metadata": {},
     "output_type": "execute_result"
    }
   ],
   "source": [
    "## show results\n",
    "df"
   ]
  },
  {
   "cell_type": "markdown",
   "metadata": {},
   "source": [
    "## save the data"
   ]
  },
  {
   "cell_type": "code",
   "execution_count": 11,
   "metadata": {},
   "outputs": [],
   "source": [
    "df.to_csv(f'rubber_{year_to_scrape}_{month_to_scrape}.csv', encoding='utf8', index=False)"
   ]
  },
  {
   "cell_type": "markdown",
   "metadata": {},
   "source": [
    "## scrape with for loop"
   ]
  },
  {
   "cell_type": "code",
   "execution_count": 13,
   "metadata": {},
   "outputs": [
    {
     "name": "stderr",
     "output_type": "stream",
     "text": [
      "100%|██████████| 3/3 [01:31<00:00, 30.61s/it]\n"
     ]
    }
   ],
   "source": [
    "header = ['วัน/เดือน/ปี','ยางแผ่นดิบ','น้ำยางสด','ยางแผ่นดิบ','ยางแผ่นรมควัน ชั้น3','น้ำยางสด','FOB']\n",
    "df = pd.DataFrame(columns=header)\n",
    "\n",
    "## get home\n",
    "url = 'http://www.raot.co.th/rubber2012/menu5.php'\n",
    "driver.get(url)\n",
    "\n",
    "## iterate year and month\n",
    "for year in tqdm(range(2563, 2566)):\n",
    "    for month in range(1, 13):\n",
    "        ## get the target page\n",
    "        driver.execute_script(f\"document.getElementById('select').value={month};\")\n",
    "        driver.execute_script(f\"document.getElementById('year').value={year};\")\n",
    "        driver.execute_script(f\"document.querySelector('input[type=submit]').click();\")\n",
    "        sleep(1) # waiting time\n",
    "\n",
    "        ## convert to BeautifulSoup\n",
    "        soup = BeautifulSoup(driver.page_source.encode('TIS-620'))\n",
    "\n",
    "        ## get the table data\n",
    "        css_selector = \"#ewt_main_structure > tbody > tr:nth-child(2) > td > div > center > table:last-child > tbody\"\n",
    "        table_soup = soup.select_one(css_selector) # extract table data\n",
    "\n",
    "        ## get each row in the table\n",
    "        table_rows = table_soup.find_all('tr', recursive=False)\n",
    "\n",
    "        ## iterate rows from index=2, because first 2 rows are header\n",
    "        ## final row is mean -> ignore\n",
    "        for row_index in range(2, len(table_rows)-1):\n",
    "            ## get first column = date\n",
    "            date = table_rows[row_index].find('td').text.strip()\n",
    "            ## iterate each inner-table in the row (len = 6)\n",
    "            data_in_row = [convert_date_thai(date)]\n",
    "            for tb in table_rows[row_index].find_all('table'):\n",
    "                value = tb.find('td').text.strip()\n",
    "                try:\n",
    "                    value = float(value)\n",
    "                except:\n",
    "                    value = None\n",
    "                data_in_row.append(value)\n",
    "            df.loc[len(df)] = data_in_row\n",
    "\n",
    "        ## browser back to first page to select next month\n",
    "        driver.back()\n",
    "        sleep(1) # waiting time"
   ]
  },
  {
   "cell_type": "code",
   "execution_count": 14,
   "metadata": {},
   "outputs": [],
   "source": [
    "# save to csv file\n",
    "df.to_csv(f'data/rubber_all.csv', encoding='utf8', index=False)"
   ]
  },
  {
   "cell_type": "code",
   "execution_count": null,
   "metadata": {},
   "outputs": [],
   "source": []
  }
 ],
 "metadata": {
  "kernelspec": {
   "display_name": "Python 3.9.13 64-bit",
   "language": "python",
   "name": "python3"
  },
  "language_info": {
   "codemirror_mode": {
    "name": "ipython",
    "version": 3
   },
   "file_extension": ".py",
   "mimetype": "text/x-python",
   "name": "python",
   "nbconvert_exporter": "python",
   "pygments_lexer": "ipython3",
   "version": "3.9.13"
  },
  "orig_nbformat": 4,
  "vscode": {
   "interpreter": {
    "hash": "aee8b7b246df8f9039afb4144a1f6fd8d2ca17a180786b69acc140d282b71a49"
   }
  }
 },
 "nbformat": 4,
 "nbformat_minor": 2
}
